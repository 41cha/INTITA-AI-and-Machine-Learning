{
 "cells": [
  {
   "cell_type": "code",
   "execution_count": null,
   "id": "3f7ea4b0-bb36-4431-8937-5e31c69b3c9d",
   "metadata": {},
   "outputs": [],
   "source": [
    "from sklearn.preprocessing import OneHotEncoder\n",
    "from sklearn.preprocessing import MinMaxScaler\n",
    "from sklearn.impute import SimpleImputer\n",
    "\n",
    "#base libs\n",
    "import sklearn\n",
    "import numpy as np\n",
    "\n",
    "#dataset\n",
    "import pandas as pd\n",
    "from sklearn import datasets\n",
    "from sklearn import preprocessing\n",
    "from sklearn.model_selection import train_test_split as split\n",
    "\n",
    "#visualization\n",
    "import missingno as msno\n",
    "import seaborn as sn\n",
    "import matplotlib.pyplot as plt\n",
    "\n",
    "#metrics\n",
    "from sklearn.metrics import classification_report, confusion_matrix "
   ]
  },
  {
   "cell_type": "code",
   "execution_count": 14,
   "id": "e62bc28f-10c4-47b9-9418-7a10bd13c944",
   "metadata": {},
   "outputs": [],
   "source": [
    "df = pd.read_csv('train.csv')"
   ]
  },
  {
   "cell_type": "code",
   "execution_count": 15,
   "id": "48dd14e8-9d6b-409f-b94e-d1fea1a4020b",
   "metadata": {},
   "outputs": [],
   "source": [
    "df = df.drop(columns=['PassengerId', 'Name', 'Ticket'])"
   ]
  },
  {
   "cell_type": "code",
   "execution_count": 16,
   "id": "74f81427-c275-4b2f-807b-598a0a61bf4f",
   "metadata": {},
   "outputs": [],
   "source": [
    "df['Age'] = df['Age'].round().astype('Int64')\n",
    "df['Age'] = df['Age'].fillna(df['Age'].median())\n",
    "\n",
    "df['Fare'] = df['Fare'].fillna(df['Fare'].median())\n",
    "\n",
    "df['Embarked'] = df['Embarked'].fillna(df['Embarked'].mode()[0])\n",
    "\n",
    "df['Cabin'] = df['Cabin'].fillna('Unknown')\n",
    "df['Cabin'] = df['Cabin'].str[0]\n",
    "# df = pd.get_dummies(df, columns=['Cabin'], drop_first=False)\n",
    "\n",
    "df['FamilySize'] = df['SibSp'] + df['Parch'] + 1\n",
    "df['IsAlone'] = (df['FamilySize'] == 1).astype(int)\n",
    "\n",
    "categorical_cols = ['Sex', 'Embarked', 'Cabin']\n",
    "df = pd.get_dummies(df, columns=categorical_cols)\n"
   ]
  },
  {
   "cell_type": "code",
   "execution_count": 17,
   "id": "ab8d8a4d-ee50-4a7a-9822-267d9c3364d6",
   "metadata": {},
   "outputs": [
    {
     "data": {
      "image/png": "[encoded data removed]",
      "text/plain": [
       "<Figure size 640x480 with 1 Axes>"
      ]
     },
     "metadata": {},
     "output_type": "display_data"
    }
   ],
   "source": [
    "df['IsChild'] = (df['Age'] <= 14).astype(int)\n",
    "\n",
    "surv_gender = [df[df['Sex_female'] == 1]['Survived'].mean(),\n",
    "               df[df['Sex_female'] == 0]['Survived'].mean()]\n",
    "plt.bar(['Жінки', 'Чоловіки'], surv_gender, color=['pink', 'lightblue'])\n",
    "plt.ylim(0, 1)\n",
    "plt.show()"
   ]
  },
  {
   "cell_type": "code",
   "execution_count": 19,
   "id": "9d14186c-0759-49f9-ba9f-cd5739502c65",
   "metadata": {},
   "outputs": [
    {
     "data": {
      "image/png": "[encoded data removed]",
      "text/plain": [
       "<Figure size 640x480 with 1 Axes>"
      ]
     },
     "metadata": {},
     "output_type": "display_data"
    }
   ],
   "source": [
    "surv_child = [df[df['IsChild'] == 1]['Survived'].mean(),\n",
    "              df[df['IsChild'] == 0]['Survived'].mean()]\n",
    "plt.bar(['Діти', 'Дорослі'], surv_child, color=['orange', 'green'])\n",
    "plt.ylim(0, 1)\n",
    "plt.show()"
   ]
  },
  {
   "cell_type": "code",
   "execution_count": 25,
   "id": "4a64de7e-b7c3-49be-ab20-5acb0ae802f7",
   "metadata": {},
   "outputs": [],
   "source": [
    "MMScaler = MinMaxScaler()\n",
    "df[['Age', 'Fare']] = MMScaler.fit_transform(df[['Age', 'Fare']])\n",
    "\n",
    "y = df['Survived']\n",
    "X = df.drop(columns=['Survived'])"
   ]
  },
  {
   "cell_type": "code",
   "execution_count": 26,
   "id": "472bdad1-7954-412b-a7b1-6eb2d1a1de55",
   "metadata": {},
   "outputs": [],
   "source": [
    "X_train, X_test, y_train, y_test = split(X, y, test_size=0.2, shuffle=True, random_state=11)"
   ]
  },
  {
   "cell_type": "code",
   "execution_count": 27,
   "id": "0d27ef86-bc6c-467f-9a9e-8d9af3facf41",
   "metadata": {},
   "outputs": [
    {
     "name": "stdout",
     "output_type": "stream",
     "text": [
      "['Survived', 'Pclass', 'Age', 'SibSp', 'Parch', 'Fare', 'FamilySize', 'IsAlone', 'Sex_female', 'Sex_male', 'Embarked_C', 'Embarked_Q', 'Embarked_S', 'Cabin_A', 'Cabin_B', 'Cabin_C', 'Cabin_D', 'Cabin_E', 'Cabin_F', 'Cabin_G', 'Cabin_T', 'Cabin_U', 'IsChild']\n"
     ]
    }
   ],
   "source": [
    "print(df.columns.tolist())"
   ]
  },
  {
   "cell_type": "code",
   "execution_count": 28,
   "id": "df24a579-723c-4c3c-963c-2da51948a6e5",
   "metadata": {},
   "outputs": [
    {
     "name": "stdout",
     "output_type": "stream",
     "text": [
      "              precision    recall  f1-score   support\n",
      "\n",
      "           0     0.8682    0.9492    0.9069       118\n",
      "           1     0.8800    0.7213    0.7928        61\n",
      "\n",
      "    accuracy                         0.8715       179\n",
      "   macro avg     0.8741    0.8352    0.8498       179\n",
      "weighted avg     0.8722    0.8715    0.8680       179\n",
      "\n"
     ]
    }
   ],
   "source": [
    "from sklearn.tree import DecisionTreeClassifier\n",
    "from sklearn.svm import SVC\n",
    "from sklearn.linear_model import LogisticRegression\n",
    "from sklearn.neural_network import MLPClassifier\n",
    "\n",
    "from sklearn.ensemble import VotingClassifier\n",
    "\n",
    "estimators = [\n",
    "    ('dt', DecisionTreeClassifier(\n",
    "        criterion='entropy',\n",
    "        max_depth=6,\n",
    "        min_samples_split=5,\n",
    "        min_samples_leaf=2,\n",
    "        random_state=42\n",
    "    )),\n",
    "    ('svc', SVC(\n",
    "        C=15,\n",
    "        kernel='rbf',\n",
    "        gamma=0.1,\n",
    "        probability=True,\n",
    "        random_state=42\n",
    "    )),\n",
    "    ('lr', LogisticRegression(\n",
    "        solver='lbfgs',\n",
    "        C=0.8,\n",
    "        penalty='l2',\n",
    "        max_iter=2000,\n",
    "        random_state=42\n",
    "    )),\n",
    "    ('mlp', MLPClassifier(\n",
    "        hidden_layer_sizes=(128, 64),\n",
    "        activation='relu',\n",
    "        solver='adam',\n",
    "        learning_rate='adaptive',\n",
    "        alpha=0.001,\n",
    "        max_iter=1500,\n",
    "        random_state=42\n",
    "    ))\n",
    "]\n",
    "\n",
    "voting_model = VotingClassifier(estimators=estimators, voting='soft')\n",
    "voting_model.fit(X_train, y_train)\n",
    "y_pred = voting_model.predict(X_test)\n",
    "print(classification_report(y_test, y_pred, digits = 4))"
   ]
  },
  {
   "cell_type": "code",
   "execution_count": null,
   "id": "d5dcbead-9436-4feb-908e-012d3330db6f",
   "metadata": {},
   "outputs": [],
   "source": []
  }
 ],
 "metadata": {
  "kernelspec": {
   "display_name": "Python 3 (ipykernel)",
   "language": "python",
   "name": "python3"
  },
  "language_info": {
   "codemirror_mode": {
    "name": "ipython",
    "version": 3
   },
   "file_extension": ".py",
   "mimetype": "text/x-python",
   "name": "python",
   "nbconvert_exporter": "python",
   "pygments_lexer": "ipython3",
   "version": "3.13.7"
  }
 },
 "nbformat": 4,
 "nbformat_minor": 5
}
